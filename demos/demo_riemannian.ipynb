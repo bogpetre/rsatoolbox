{
 "cells": [
  {
   "cell_type": "markdown",
   "id": "66e8f86c",
   "metadata": {},
   "source": [
    "## Riemannian Distances\n",
    "\n",
    "The Riemannian distance is a method for comparing RDMs originally proposed by [Shahbazi et al. (2021)](https://doi.org/10.1016/j.neuroimage.2021.118271). It is the Riemannian geodesic distance in the space of positive definite matrices. It is a bit more computationally expensive to compute, but performed well as a stable comparison metric.\n",
    "\n",
    "Main differences to other RDM comparison measures in our toolbox are: \n",
    "\n",
    "1. To convert into a similarity measure, we take the negative of the Riemannian distance. As a consequence all results are negative and 0 is an absolute upper bound to RDM similarity or model performance. This is normal for this metric.\n",
    "\n",
    "2. Computing the Riemannian distance requires an optimization to adjust a mixture of the noise second moment matrix and the second moment matrix according to the other RDM. This results in a relatively high computational effort. \n",
    "\n"
   ]
  },
  {
   "cell_type": "markdown",
   "id": "863bc0a5",
   "metadata": {},
   "source": [
    "### Conversion to second moment matrices\n",
    "To apply Riemannian distances RDMs, we need to transform the RDMs into second moment matrices. To do so, we need to find a linear and one-to-one transformtion from the dissimilarity into the inner product (positive definite second moment) space. When we calculate the RDM from the pattern matrix, we lose the information of the mean pattern. The second moment matrix calculating from the RDM assuming that the origin is zero, has inherently one zero eigenvalue. Therefore the Riemanninan distances calculating between these second moments are equal to infinity. One alternative is to set the activity pattern of one condition to the origin which results to a $(n_{cond}-1)\\times(n_{cond}-1)$ second moment matrix."
   ]
  },
  {
   "cell_type": "markdown",
   "id": "b1d350e2",
   "metadata": {},
   "source": [
    "For example, say, $b_1$, $b_1$, and $b_3$ are the activity patterns for three condition. The RDM matrix would take the form like this:\n",
    "$$\n",
    "\\begin{bmatrix}\n",
    "0 & (b_1-b_2)(b_1-b_2)^T & (b_1-b_3)(b_1-b_3)^T\\\\\n",
    "(b_1-b_2)(b_1-b_2)^T & 0 & (b_2-b_3)(b_2-b_3)^T\\\\\n",
    "(b_1-b_3)(b_1-b_3)^T & (b_2-b_3)(b_2-b_3)^T & 0\n",
    "\\end{bmatrix}.\n",
    "$$\n",
    "Now, for transforming into the inner product space assuming that $b_1$ is the origin, the resulting second moment will be:\n",
    "\\begin{bmatrix}\n",
    "(b_2-b_1)(b_2-b_1)^T & (b_2-b_1)(b_3-b_1)^T\\\\\n",
    "(b_2-b_1)(b_3-b_1)^T & (b_3-b_1)(b_3-b_1)^T\\\\\n",
    "\\end{bmatrix}.\n",
    "It is important to note that the new second moment matrix has the same information as the RDM, meaning that there is one linear one-to-one transformation between them. In this low dimensional exmaple the linear transformation between the vectorized RDM and second moment would be:\n",
    "\n",
    "$$\n",
    "\\begin{bmatrix}\n",
    "(b_2-b_1)(b_2-b_1)^T\\\\\n",
    "(b_3-b_1)(b_3-b_1)^T\\\\\n",
    "(b_2-b_1)(b_3-b_1)^T\n",
    "\\end{bmatrix}\n",
    "= \n",
    "\\begin{bmatrix}\n",
    "1 & 0 & 0\\\\\n",
    "0 & 1 & 0\\\\\n",
    "0.5 & 0.5 & -0.5\n",
    "\\end{bmatrix}\n",
    "$$\n",
    "\n",
    "$$\n",
    "\\begin{bmatrix}\n",
    "(b_1-b_2)(b_1-b_2)^T\\\\\n",
    "(b_1-b_3)(b_1-b_3)^T\\\\\n",
    "(b_2-b_3)(b_2-b_3)^T\n",
    "\\end{bmatrix}.\n",
    "$$"
   ]
  },
  {
   "cell_type": "markdown",
   "id": "3dda084a",
   "metadata": {},
   "source": [
    "Fortunately, affine invariance property of Riemannian metric, dictates even if we have used each of remaining conditions (or linear combination of them) as the new origin, the distance would remain the same."
   ]
  },
  {
   "cell_type": "markdown",
   "id": "2847dd33",
   "metadata": {},
   "source": [
    "In order to improve the inference, Riemannian distance also benefits from the patterns estimate covariance, $\\Sigma_k$. The resulting measure would be:\n",
    "\n",
    "$$\n",
    "min_{\\alpha,\\beta}\\sqrt{\\sum_i \\log^2(\\lambda_i)}\n",
    "$$"
   ]
  },
  {
   "cell_type": "markdown",
   "id": "756cd01a",
   "metadata": {},
   "source": [
    "where $\\lambda_i$ is the $i^{th}$ eigenvalue of $G_{data}^{-1}(\\alpha G_{model}+\\beta P\\Sigma_k P)$\n",
    "\n",
    "$P$: projection matrix on the first condition.\n",
    "<br> \n",
    "$G_{data}$: second moment coming from the data RDM - procedure explained above.\n",
    "<br> \n",
    "$G_{model}$: second moment coming from the model RDM we want to test.\n",
    "<br> \n",
    "$\\Sigma_k$: patterns estimate covariance could come from the first level GLM estimate."
   ]
  },
  {
   "cell_type": "markdown",
   "id": "e9116e1f",
   "metadata": {},
   "source": [
    "## Implementation in the toolbox\n",
    "The negative Riemannian distance is available as a normal RDM comparison metric in the toolbox. Useage for a given RDM and a random RDM generated to be somewhat close is illustrated below:"
   ]
  },
  {
   "cell_type": "code",
   "execution_count": 1,
   "id": "9187ae5c",
   "metadata": {},
   "outputs": [],
   "source": [
    "import numpy as np\n",
    "from scipy.spatial.distance import squareform\n",
    "from rsatoolbox.rdm.compare import compare_neg_riemannian_distance\n",
    "from rsatoolbox.model import ModelFixed\n",
    "from rsatoolbox.simulation import make_dataset\n",
    "from rsatoolbox.rdm import calc_rdm, RDMs"
   ]
  },
  {
   "cell_type": "code",
   "execution_count": 2,
   "id": "0ebc96b4",
   "metadata": {},
   "outputs": [
    {
     "name": "stdout",
     "output_type": "stream",
     "text": [
      "[[-0.56616237]]\n"
     ]
    }
   ],
   "source": [
    "# defining the model_rdm\n",
    "model_rdm = np.array([\n",
    "    [0.  , 0.98, 2.18, 2.18, 2.18, 2.18],\n",
    "    [0.98, 0.  , 2.18, 2.18, 2.18, 2.18],\n",
    "    [2.18, 2.18, 0.  , 0.98, 2.18, 2.18],\n",
    "    [2.18, 2.18, 0.98, 0.  , 2.18, 2.18],\n",
    "    [2.18, 2.18, 2.18, 2.18, 0.  , 0.98],\n",
    "    [2.18, 2.18, 2.18, 2.18, 0.98, 0.  ]])\n",
    "\n",
    "# vectorize the model and feed make the model_rdm object \n",
    "model_rdm = squareform(model_rdm)\n",
    "model_rdm = RDMs(\n",
    "    dissimilarities=model_rdm,\n",
    "    dissimilarity_measure='test',\n",
    "    descriptors={'session': 0, 'subj': 0})\n",
    "\n",
    "# genrate a dataset from the model_rdm; make_dataset function add noise assuming pattern estimates are uncorrelated (sigma_k=I)\n",
    "dataset = make_dataset(ModelFixed('model_rdm',model_rdm), theta=None, cond_vec=np.array([0, 1, 2, 3, 4, 5]), n_channel=100)\n",
    "\n",
    "# the rdm calculated from the noisy dataset\n",
    "data_rdm = calc_rdm(dataset, method='euclidean')\n",
    "\n",
    "# the negative riemannian distance between model and data rdms\n",
    "neg_riem_dist = compare_neg_riemannian_distance(model_rdm, data_rdm, sigma_k=np.eye(6))\n",
    "print(neg_riem_dist)"
   ]
  }
 ],
 "metadata": {
  "interpreter": {
   "hash": "ff2c22bd61105ff38ccfd36912b551eb28426e123d068845c28f57c7d40ce93e"
  },
  "kernelspec": {
   "display_name": "Python 3 (ipykernel)",
   "language": "python",
   "name": "python3"
  },
  "language_info": {
   "codemirror_mode": {
    "name": "ipython",
    "version": 3
   },
   "file_extension": ".py",
   "mimetype": "text/x-python",
   "name": "python",
   "nbconvert_exporter": "python",
   "pygments_lexer": "ipython3",
   "version": "3.8.8"
  }
 },
 "nbformat": 4,
 "nbformat_minor": 5
}
